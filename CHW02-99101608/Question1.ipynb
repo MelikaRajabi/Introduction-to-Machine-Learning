{
 "cells": [
  {
   "cell_type": "markdown",
   "metadata": {
    "id": "p03hoMY_KC5B"
   },
   "source": [
    "<h1 align=\"center\">An Introduction to Machine Learning - 25737</h1>\n",
    "<h4 align=\"center\">Dr. Sajjad Amini</h4>\n",
    "<h4 align=\"center\">Sharif University of Technology, Spring 2023</h4>\n",
    "\n",
    "**Student Name**: Melika Rajabi\n",
    "\n",
    "**Student ID**: 99101608\n",
    "\n",
    "# Linear Regression\n",
    "\n",
    "In this exercise, we want to examine **linear regression**. For this purpose, we have prepared a dataset in the `q1.csv` file. This dataset is used to estimate the **heating load** and **cooling load** of a building based on its parameters. The parameters in this dataset are explained below:\n",
    "\n",
    "- $X_1$: Relative Compactness\n",
    "- $X_2$: Surface Area\n",
    "- $X_3$: Wall Area\n",
    "- $X_4$: Roof Area\n",
    "- $X_5$: Overall Height\n",
    "- $X_6$: Orientation\n",
    "- $X_7$: Glazing Area\n",
    "- $X_8$: Glazing Area Distribution\n",
    "- $Y_1$: Heating Load\n",
    "- $Y_2$: Cooling Load\n",
    "\n",
    "**Note**: For the sake of simplicity, we will only focus on estimating the **heating load** in this problem. Also, please note that we have some inline questions in this notebook, for which you should write your answers in the **Answer** section below each question."
   ]
  },
  {
   "cell_type": "markdown",
   "metadata": {
    "id": "P6_GSec1OXRM"
   },
   "source": [
    "## Importing Libraries\n",
    "\n",
    "First we import libraries that we need for this assignment.\n",
    "\n",
    "**Attention**: You should only use these libraries. Other libraries are not acceptable."
   ]
  },
  {
   "cell_type": "code",
   "execution_count": 1,
   "metadata": {
    "id": "5u7kqX0wONrr"
   },
   "outputs": [],
   "source": [
    "import numpy as np\n",
    "import pandas as pd\n",
    "import matplotlib.pyplot as plt"
   ]
  },
  {
   "cell_type": "markdown",
   "metadata": {
    "id": "9he9c_YvMqAL"
   },
   "source": [
    "## Reading Data and Preprocessing\n",
    "\n",
    "In this section, we want to read data from a CSV file and then preprocess it to make it ready for the rest of the problem.\n",
    "\n",
    "First, we read the data in the cell below and extract an $m \\times n$ matrix, $X$, and an $m \\times 1$ vector, $Y$, from it, which represent our knowledge about the building (`X1`, `X2`, ..., `X8`) and heating load (`Y1`), respectively. Note that by $m$, we mean the number of data points and by $n$, we mean the number of features."
   ]
  },
  {
   "cell_type": "code",
   "execution_count": 2,
   "metadata": {
    "id": "bV10SRSaJ_DJ"
   },
   "outputs": [
    {
     "name": "stdout",
     "output_type": "stream",
     "text": [
      "(768, 8)\n",
      "(768, 1)\n"
     ]
    }
   ],
   "source": [
    "X, Y = None, None\n",
    "\n",
    "### START CODE HERE ###\n",
    "\n",
    "df = pd.read_csv('q1.csv')\n",
    "X = df[['X1', 'X2', 'X3', 'X4', 'X5', 'X6', 'X7', 'X8']]\n",
    "Y = df[['Y1']]\n",
    "\n",
    "### END CODE HERE ###\n",
    "\n",
    "print(X.shape)\n",
    "print(Y.shape)\n"
   ]
  },
  {
   "cell_type": "markdown",
   "metadata": {
    "id": "EkZeww-2OAuX"
   },
   "source": [
    "Next, we should normalize our data. For normalizing a vector $\\mathbf{x}$, a very common method is to use this formula:\n",
    "\n",
    "$$\n",
    "\\mathbf{x}_{norm} = \\dfrac{\\mathbf{x} - \\overline{\\mathbf{x}}}{\\sigma_\\mathbf{x}}\n",
    "$$\n",
    "\n",
    "Here, $\\overline{x}$ and $\\sigma_\\mathbf{x}$ denote the mean and standard deviation of vector $\\mathbf{x}$, respectively. Use this formula and store the new $X$ and $Y$ vectors in the cell below.\n",
    "\n",
    "**Question**: Briefly explain why we need to normalize our data before starting the training.\n",
    "\n",
    "**Answer**: Normalizing is done because of several reasons. Some of them are:\n",
    "- Some methods such as Gradient Descent, are sensitive to the scale of the input features. Normalizing the input features can improve the convergence of the algorithm and reduce the training time.\n",
    "- It can improve the interpretability of the model. The coefficients of the model represent the importance of each feature in predicting the target variable. When the input features are on different scales, it becomes difficult to interpret the coefficients as the importance of the feature is confounded with the scale of the feature.\n",
    "- Using regularization, when the input features are on different scales, the penalty is not uniform across the features. \n",
    "- Normalizing the input features can reduce the influence of outliers and improve the robustness of the model. Outliers are observations that are significantly different from the other observations in the dataset and can have a large impact on the coefficients of the model when the input features are on different scales. "
   ]
  },
  {
   "cell_type": "code",
   "execution_count": 3,
   "metadata": {
    "id": "Y2i0bjxUPak2"
   },
   "outputs": [],
   "source": [
    "### START CODE HERE ###\n",
    "\n",
    "X_norm = (X - X.mean()) / X.std()\n",
    "Y_norm = (Y - Y.mean()) / Y.std()\n",
    "\n",
    "X = X_norm\n",
    "Y = Y_norm\n",
    "\n",
    "### END CODE HERE ###"
   ]
  },
  {
   "cell_type": "markdown",
   "metadata": {
    "id": "mvmHQ-mxQzDE"
   },
   "source": [
    "Finally, we should add a column of $1$s at the beginning of $X$ to represent the bias term. Do this in the next cell. Note that after this process, $X$ should be an $m \\times (n+1)$ matrix."
   ]
  },
  {
   "cell_type": "code",
   "execution_count": 4,
   "metadata": {
    "id": "QLfV7VQNRCfF"
   },
   "outputs": [
    {
     "name": "stdout",
     "output_type": "stream",
     "text": [
      "(768, 9)\n"
     ]
    }
   ],
   "source": [
    "### START CODE HERE ###\n",
    "\n",
    "bias = np.ones((X.shape[0],1))\n",
    "X.insert(0, 'bias', bias)\n",
    "\n",
    "### END CODE HERE ###\n",
    "\n",
    "print(X.shape)\n"
   ]
  },
  {
   "cell_type": "markdown",
   "metadata": {
    "id": "nO--dppbRsdb"
   },
   "source": [
    "## Training Model Using Direct Method\n",
    "\n",
    "We know that the loss function in linear regression is defined as:\n",
    "\n",
    "$$\n",
    "\\mathcal{L}(\\mathbf{w}) = \\frac{1}{m}\\sum_{i=1}^{m}(\\mathbf{w}^\\top\\mathbf{x}_i-y_i)^2\n",
    "$$\n",
    "\n",
    "Here, $w$ is the weight vector and $(x_i, y_i)$ represents the $i$th data point. First, write a function that takes $X$, $Y$, and $w$ as inputs and returns the loss value in the next cell. Note that your implementation should be fully vectorized, meaning that you are not allowed to use any loops in your function and should only use functions prepared in the numpy library."
   ]
  },
  {
   "cell_type": "code",
   "execution_count": 5,
   "metadata": {
    "id": "bSbXtyXCRzD3"
   },
   "outputs": [],
   "source": [
    "def loss(X, Y, w):\n",
    "    ''' \n",
    "    X: an m by (n+1) matrix which includes inputs\n",
    "    Y: an m by 1 vector which includes heating loads\n",
    "    w: an (n+1) by 1 weight vector\n",
    "    '''\n",
    "    m, n = X.shape\n",
    "    loss = None\n",
    "\n",
    "    ### START CODE HERE ###\n",
    "    loss = np.dot((np.dot(X,w) - Y).T, (np.dot(X,w) - Y)) / m\n",
    "    ### END CODE HERE ###\n",
    "    \n",
    "    # Returning the integer value of the 1 by 1 list\n",
    "    return loss.item()\n"
   ]
  },
  {
   "cell_type": "markdown",
   "metadata": {},
   "source": [
    "Note that the matrix form of the loss function is:\n",
    "    $$\\mathcal{L}(\\boldsymbol{w}) = \\frac{1}{m} (\\boldsymbol{X}\\boldsymbol{w} - \\boldsymbol{Y})^T(\\boldsymbol{X}\\boldsymbol{w} - \\boldsymbol{Y})$$"
   ]
  },
  {
   "cell_type": "markdown",
   "metadata": {
    "id": "VuhSB9zaTfwm"
   },
   "source": [
    "Now, we want to calculate the weight matrix, $w$, using the direct method. By direct method, we mean finding the answer to the optimization problem below directly using linear algebra, without using iterative methods:\n",
    "\n",
    "$$\n",
    "\\min_{w} \\mathcal{L}(w)\n",
    "$$\n",
    "\n",
    "Question: What is the answer to this problem in terms of $X$ and $Y$?\n",
    "\n",
    "Answer: The direct answer to the optimization problem above is \n",
    "$$\\boldsymbol{w} = \\underset{\\boldsymbol{w}}{\\arg \\min}\\mathcal{L}(\\boldsymbol{w}) = (\\boldsymbol{X}^T\\boldsymbol{X})^{-1}(\\boldsymbol{X}^T\\boldsymbol{Y})$$\n",
    "\n",
    "Now you should implement a function that receives $X$ and $Y$ as input and returns $w$. Note that your implementation should also be fully vectorized."
   ]
  },
  {
   "cell_type": "code",
   "execution_count": 6,
   "metadata": {
    "id": "-gCUK01DT-cW"
   },
   "outputs": [],
   "source": [
    "def direct_method(X, Y):\n",
    "    '''\n",
    "    X: an m by (n+1) matrix which includes inputs\n",
    "    Y: an m by 1 vector which includes heating loads\n",
    "    '''\n",
    "    w = None\n",
    "    \n",
    "    ### START CODE HERE ###\n",
    "    w = np.dot(np.linalg.inv(np.dot(X.T, X)), np.dot(X.T, Y))\n",
    "    ### END CODE HERE ###\n",
    "    \n",
    "    return w\n"
   ]
  },
  {
   "cell_type": "markdown",
   "metadata": {
    "id": "thFIeOaSUvlw"
   },
   "source": [
    "Finally, we want to evaluate our loss for this problem. Run the cell below to calculate the loss of your model."
   ]
  },
  {
   "cell_type": "code",
   "execution_count": 7,
   "metadata": {
    "id": "6gGDh11VU8vF"
   },
   "outputs": [
    {
     "name": "stdout",
     "output_type": "stream",
     "text": [
      "loss for this problem using direct method is 0.11103039614693923\n"
     ]
    }
   ],
   "source": [
    "w = direct_method(X, Y) # Calculating w using direct method\n",
    "print(f\"loss for this problem using direct method is {loss(X, Y, w)}\")"
   ]
  },
  {
   "cell_type": "markdown",
   "metadata": {
    "id": "QaG14YG9VXiS"
   },
   "source": [
    "## Training Model Using Gradient Descent\n",
    "\n",
    "Now, instead of using the direct method to calculate $w$, we want to use the **Gradient Descent** algorithm. We know that in this algorithm, in each iteration, we should update our weight vector with:\n",
    "\n",
    "$$\n",
    "\\mathbf{w}^{(t+1)} = \\mathbf{w}^{(t)} - \\alpha \\nabla \\mathcal{L}(\\mathbf{w}^{(t)})\n",
    "$$\n",
    "\n",
    "Here, $w^{t}$ represents the weight matrix in the $t$th iteration, and $\\alpha$ represents the learning rate.\n",
    "\n",
    "**Question**: Write an expression for $\\nabla\\mathcal{L}(\\mathbf{w})$.\n",
    "\n",
    "**Answer**: The gradient of the loss function equals: \n",
    "$$\\nabla\\mathcal{L}(\\boldsymbol{w}) = \\frac{2}{m} \\boldsymbol{X}^T(\\boldsymbol{X}\\boldsymbol{w} - \\boldsymbol{Y})$$\n",
    "\n",
    "Now, write a function that computes the gradient of $\\mathcal{L}(\\mathbf{w})$. This function should receive $X$, $Y$, and $\\mathbf{w}$ as inputs and return an $(n+1) \\times 1$ vector, which represents $\\nabla\\mathcal{L}(\\mathbf{w})$. Note that your implementation should also be **fully vectorized**."
   ]
  },
  {
   "cell_type": "code",
   "execution_count": 8,
   "metadata": {
    "id": "yqVQ-8I-VeVc"
   },
   "outputs": [],
   "source": [
    "def gradient(X, Y, w):\n",
    "    '''\n",
    "    X: an m by (n+1) matrix which includes inputs\n",
    "    Y: an m by 1 vector which includes heating loads\n",
    "    w: an (n+1) by 1 weight vector\n",
    "    '''\n",
    "    m, n = X.shape\n",
    "    grad = None\n",
    "    \n",
    "    ### START CODE HERE ###\n",
    "    \n",
    "    grad = (2/m) * (np.dot(X.T, np.dot(X, w) - Y))\n",
    "  \n",
    "    ### END CODE HERE ###\n",
    "    \n",
    "    return grad\n"
   ]
  },
  {
   "cell_type": "markdown",
   "metadata": {
    "id": "TJP5KaZzXz5K"
   },
   "source": [
    "Now, we are ready to implement the Gradient Descent algorithm. Complete the function below for this purpose. Note that this function receives $X$, $Y$, the learning rate, and the number of iterations as inputs. This function should return two parameters. The first parameter is $\\mathbf{w}$, and the second parameter is a `numpy` array that contains the loss in each iteration. This array is indicated by `loss_history` in the code. Also note that you should initialize $\\mathbf{w}$ with the `randn` function."
   ]
  },
  {
   "cell_type": "code",
   "execution_count": 9,
   "metadata": {
    "id": "qdfNjz5DYgD7"
   },
   "outputs": [],
   "source": [
    "def gradient_descent(X, Y, alpha, num_iter):\n",
    "    '''\n",
    "    X: an m by (n+1) matrix which includes inputs\n",
    "    Y: an m by 1 vector which includes heating loads\n",
    "    alpha: learning rate\n",
    "    num_iter: number of iterations of the algorithm\n",
    "    '''\n",
    "    m, n = X.shape\n",
    "    w, loss_history = None, [] \n",
    "    \n",
    "    ### START CODE HERE ###\n",
    "    \n",
    "    # Initializing w using randn\n",
    "    w = np.random.randn(n, 1)\n",
    "    \n",
    "    # Iterating \n",
    "    for i in range(0, num_iter):\n",
    "        # Updating w\n",
    "        w = w - alpha * gradient(X, Y, w)\n",
    "        # Constructing the loss history\n",
    "        loss_history = np.append(loss_history, loss(X, Y, w))\n",
    "  \n",
    "    ### END CODE HERE ###\n",
    "    \n",
    "    return w, loss_history\n"
   ]
  },
  {
   "cell_type": "markdown",
   "metadata": {
    "id": "CjGioRweZK9O"
   },
   "source": [
    "Now, run the `gradient_descent` function for 5 different values of the learning rate. Plot the `loss_history` of these 5 different values in the same figure.\n",
    "\n",
    "**Question**: Discuss the effect of the learning rate and find the best value of this parameter.\n",
    "\n",
    "**Answer**: The learning rate is a hyperparameter in the gradient descent optimization algorithm that controls the step size taken in the direction of the negative gradient. If the learning rate is too small, the optimization process may be slow, while if it is too large, the optimization may oscillate or even diverge. Therefore, selecting an appropriate learning rate is crucial for the success of the optimization process.\n",
    "A good learning rate can converge quickly and efficiently towards the minimum of the loss function. A good starting point for the learning rate is usually $0.1$, but the optimal value depends on the problem and the data.\n",
    "A method to find the best learning rate is to use a learning rate schedule, which gradually reduces the learning rate over time. This can help the algorithm to converge more smoothly and avoid oscillations or divergences."
   ]
  },
  {
   "cell_type": "code",
   "execution_count": 10,
   "metadata": {
    "id": "yMuwbOokZtcL"
   },
   "outputs": [
    {
     "data": {
      "image/png": "[encoded data removed]",
      "text/plain": [
       "<Figure size 432x288 with 5 Axes>"
      ]
     },
     "metadata": {
      "needs_background": "light"
     },
     "output_type": "display_data"
    }
   ],
   "source": [
    "### START CODE HERE ###\n",
    "\n",
    "alpha = [0.01, 0.1, 1, 10, 100]\n",
    "num_iter = 10\n",
    "\n",
    "fig, axs = plt.subplots(5)\n",
    "fig.subplots_adjust(hspace=0.7)\n",
    "\n",
    "for a in alpha:\n",
    "    w, loss_history = gradient_descent(X, Y, a, num_iter)\n",
    "    plt.subplot(3, 2, alpha.index(a)+1)\n",
    "    plt.plot(loss_history)\n",
    "    plt.title('alpha = ' + str(a))\n",
    "    \n",
    "plt.suptitle('Loss History in ' + str(num_iter) + ' iterations where:')\n",
    "plt.show()\n",
    "\n",
    "### END CODE HERE ###"
   ]
  },
  {
   "cell_type": "markdown",
   "metadata": {},
   "source": [
    "As it is shown in the plots, when $\\alpha$ is $0.01$ the algorithm converges but slowly. This happens because the step size is too small to make significant progress towards the minimum of the loss function, so the algorithm takes many small steps before it reaches the minimum. When we increase it to $0.1$, the speed of convergence increases. On the other hand, when $\\alpha$ is $1$ or more, the algorithm overshoots the minimum of the loss function and even diverges and the loss function increases instead of decreasing. Based on these explanations, the best learning rate among these numbers may be $0.1$."
   ]
  },
  {
   "cell_type": "markdown",
   "metadata": {
    "id": "k-lyJhZqZ18d"
   },
   "source": [
    "## Conclusion\n",
    "\n",
    "Compare the answer of two different methods that we used earlier.\n",
    "\n",
    "**Question**: Discuss these two methods and compare them with each other. When is it better to use the direct method, and when is it better to use Gradient Descent?\n",
    "\n",
    "**Answer**: The two methods that can be used to solve linear regression problems are the direct method (also known as the normal equation) and the iterative method (such as Gradient Descent).\n",
    "Some factors to consider when choosing between the direct method and Gradient Descent are ...\n",
    "\n",
    "1. Computational Complexity: The direct method requires computing the inverse of a matrix, which can be computationally expensive and memory-intensive for large datasets. In contrast, Gradient Descent requires only matrix multiplications and vector additions, which are generally more computationally efficient. Therefore, Gradient Descent may be preferred for large datasets.\n",
    "\n",
    "2. Convergence Rate: The direct method provides the exact solution to the linear regression problem in one step, whereas Gradient Descent requires multiple iterations to converge to a solution. However, the convergence rate of Gradient Descent can be improved by using an appropriate learning rate and other optimization techniques. Therefore, Gradient Descent may be preferred for problems where the direct method is not practical or efficient.\n",
    "\n",
    "3. Regularization: The direct method can be extended to include regularization, such as $L1$ or $L2$ regularization, which can help prevent overfitting in the model. Gradient Descent can also be extended to include regularization, but this requires additional computations and hyperparameters. Therefore, the direct method may be preferred for problems where regularization is important.\n",
    "\n",
    "4. Numerical Stability: The direct method may not be numerically stable for ill-conditioned matrices, which can lead to numerical errors or incorrect solutions. Gradient Descent is more numerically stable and can handle ill-conditioned matrices more effectively. Therefore, Gradient Descent may be preferred for problems where numerical stability is a concern.\n",
    "\n",
    "In summary, the choice between the direct method and Gradient Descent depends on the specific problem and the available computational resources. The direct method may be preferred for small datasets, problems with regularization, and problems where numerical stability is a concern. Gradient Descent may be preferred for large datasets, problems where the direct method is not practical or efficient, and problems where iterative optimization techniques are necessary."
   ]
  },
  {
   "cell_type": "markdown",
   "metadata": {
    "id": "MF15dsmXaUzJ"
   },
   "source": [
    "## (Additional Part) Stochastic Gradient Descent\n",
    "\n",
    "When the number of data points becomes large, calculating the gradient becomes very complicated. In these circumstances, we use **Stochastic Gradient Descent**. In this algorithm, instead of using all of the data points to calculate the gradient, we use only a small number of them. We choose these small number of points randomly in each iteration. Implement this algorithm, and use it to calculate $w$, and then compare the result with the preceding parts."
   ]
  },
  {
   "cell_type": "code",
   "execution_count": 11,
   "metadata": {
    "id": "6cHTQFgOaQBB",
    "scrolled": true
   },
   "outputs": [
    {
     "data": {
      "image/png": "[encoded data removed]",
      "text/plain": [
       "<Figure size 432x288 with 5 Axes>"
      ]
     },
     "metadata": {
      "needs_background": "light"
     },
     "output_type": "display_data"
    }
   ],
   "source": [
    "def stochastic_gradient_descent(X, Y, k, alpha, num_iter):\n",
    "    '''\n",
    "    X: an m by (n+1) matrix which includes inputs\n",
    "    Y: an m by 1 vector which includes heating loads\n",
    "    k: number of data points used in each iteration\n",
    "    alpha: learning rate\n",
    "    num_iter: number of iterations of the algorithm\n",
    "    '''\n",
    "    m, n = X.shape\n",
    "    w, loss_history = None, [] \n",
    "    \n",
    "    ### START CODE HERE ###\n",
    "\n",
    "    w = np.random.randn(n, 1)\n",
    "    \n",
    "    for i in range(0, num_iter):\n",
    "        \n",
    "        # Choosing k number of samples from the data set\n",
    "        X_sample = X.sample(k)\n",
    "        Y_sample = Y.loc[X_sample.index]\n",
    "        \n",
    "        # Computing the gradient descent but using samples (stochastic gradient descent)\n",
    "        w = w - alpha * gradient(X_sample, Y_sample, w)\n",
    "        loss_history = np.append(loss_history, loss(X_sample, Y_sample, w))\n",
    "        \n",
    "    ### END CODE HERE ###\n",
    "    \n",
    "    return w, loss_history\n",
    "\n",
    "\n",
    "# Applying the function on our data set\n",
    "alpha = [0.01, 0.1, 1, 10, 100]\n",
    "num_iter = 10\n",
    "k = 200;\n",
    "\n",
    "# Plotting the loss history in different learning rates\n",
    "fig, axs = plt.subplots(5)\n",
    "fig.subplots_adjust(hspace=0.7)\n",
    "\n",
    "for a in alpha:\n",
    "    w, loss_history = stochastic_gradient_descent(X, Y, k, a, num_iter)\n",
    "    plt.subplot(3, 2, alpha.index(a)+1)\n",
    "    plt.plot(loss_history)\n",
    "    plt.title('alpha = ' + str(a))\n",
    "    \n",
    "plt.suptitle('Loss History in ' + str(num_iter) + ' iterations where:')\n",
    "plt.show()\n",
    " "
   ]
  },
  {
   "cell_type": "markdown",
   "metadata": {},
   "source": [
    "As expected, the outputs are nearly similar to the gradient descent. But in each iteration just a subset of data is used which leads to more noisy updates. As a result, the loss history function of SGD shows a more erratic curve with each iteration, as the updates to the model parameters are more variable. However, this noise can actually be beneficial, as it can help the model escape from local minima and converge to a better global minimum. Additionally, the use of mini-batches allows SGD to perform updates more frequently than GD, which can lead to faster convergence to a solution."
   ]
  }
 ],
 "metadata": {
  "colab": {
   "provenance": []
  },
  "kernelspec": {
   "display_name": "Python 3 (ipykernel)",
   "language": "python",
   "name": "python3"
  },
  "language_info": {
   "codemirror_mode": {
    "name": "ipython",
    "version": 3
   },
   "file_extension": ".py",
   "mimetype": "text/x-python",
   "name": "python",
   "nbconvert_exporter": "python",
   "pygments_lexer": "ipython3",
   "version": "3.9.7"
  }
 },
 "nbformat": 4,
 "nbformat_minor": 1
}
