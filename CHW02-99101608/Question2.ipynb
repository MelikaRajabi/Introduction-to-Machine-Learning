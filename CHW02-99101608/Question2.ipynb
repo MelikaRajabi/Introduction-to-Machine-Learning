{
 "cells": [
  {
   "cell_type": "markdown",
   "metadata": {
    "id": "un_07izr0mCO"
   },
   "source": [
    "<h1 align=\"center\">An Introduction to Machine Learning - 25737</h1>\n",
    "<h4 align=\"center\">Dr. Sajjad Amini</h4>\n",
    "<h4 align=\"center\">Sharif University of Technology, Spring 2023</h4>\n",
    "\n",
    "**Student Name**: Melika Rajabi\n",
    "\n",
    "**Student ID**: 99101608\n",
    "\n",
    "# Effect of Overfitting\n",
    "\n",
    "In this exercise, we want to examine the effect of **overfitting**. As you learned in class, using too many features in training can result in a model with very low loss on the training set but high loss on the validation and test set. For this purpose, we have prepared a dataset in the `q2-train.npy`, `q2-valid.npy`, and `q2-test.npy` files for you. We know that `y` is a polynomial function of `x` in this dataset, meaning that \n",
    "\n",
    "$$\n",
    "y = \\sum_{i=0}^{k}a_ix^i\n",
    "$$\n",
    "\n",
    "However, we do not know the exact value of `k`."
   ]
  },
  {
   "cell_type": "markdown",
   "metadata": {
    "id": "rcSNUeqT158e"
   },
   "source": [
    "## Importing Libraries\n",
    "\n",
    "First, we import the necessary libraries for this assignment. Please note that you should only use these libraries and no other libraries are acceptable."
   ]
  },
  {
   "cell_type": "code",
   "execution_count": 1,
   "metadata": {
    "id": "UitW8b0J0jBa"
   },
   "outputs": [],
   "source": [
    "import numpy as np\n",
    "import matplotlib.pyplot as plt"
   ]
  },
  {
   "cell_type": "markdown",
   "metadata": {
    "id": "Q1x7BaU22F4k"
   },
   "source": [
    "## Reading Data and Preprocessing\n",
    "\n",
    "In this part of the assignment, you should read data from the `.npy` files. The data in `q2-train.npy` file is your training set and should be stored in the `X_train` and `Y_train` variables. Similarly, the data in `q2-valid.npy` file is your validation set, and the data in `q2-test.npy` file is your test set, which should be stored in `X_val`, `Y_val`, `X_test`, and `Y_test` respectively. You can use the `np.load` function to read the `.npy` files."
   ]
  },
  {
   "cell_type": "code",
   "execution_count": 2,
   "metadata": {
    "id": "dDMeq10G2m0U"
   },
   "outputs": [
    {
     "name": "stdout",
     "output_type": "stream",
     "text": [
      "(30, 1) \n",
      " (40, 1) \n",
      " (40, 1)\n",
      "(30, 1) \n",
      " (40, 1) \n",
      " (40, 1)\n"
     ]
    }
   ],
   "source": [
    "X_train, Y_train, X_val, Y_val, X_test, Y_test = None, None, None, None, None, None\n",
    "\n",
    "### START CODE HERE ###\n",
    "\n",
    "# Loading data from the file\n",
    "data = np.load('q2-train.npy')\n",
    "# Spliting the data into X and Y considering the sizes of the matrices\n",
    "X_train = data[:, 0].reshape(-1, 1)\n",
    "Y_train = data[:, 1].reshape(-1, 1)\n",
    "\n",
    "data = np.load('q2-valid.npy')\n",
    "X_val = data[:,0].reshape(-1, 1)\n",
    "Y_val = data[:,1].reshape(-1, 1)\n",
    "\n",
    "data = np.load('q2-test.npy')\n",
    "X_test = data[:,0].reshape(-1, 1)\n",
    "Y_test = data[:,1].reshape(-1, 1)\n",
    "\n",
    "print(X_train.shape, '\\n', X_val.shape, '\\n', X_test.shape)\n",
    "print(Y_train.shape, '\\n', Y_val.shape, '\\n', Y_test.shape)\n",
    "\n",
    "### END CODE HERE ###"
   ]
  },
  {
   "cell_type": "markdown",
   "metadata": {
    "id": "nyXpEfEa3Gw-"
   },
   "source": [
    "To find the best value of `k`, we want to change `k` from 1 to 12 and examine its effect on the validation set, and then choose the right value of `k`. For this purpose, we need to create a matrix with columns equal to $x^0$, $x^1$, $x^2$, ..., $x^k$ for every value of `k`. You can complete the following function to do this job. The function takes an $m \\times 1$ vector `X` containing values of input `x` and returns an $m \\times (k+1)$ matrix that has the properties mentioned above."
   ]
  },
  {
   "cell_type": "code",
   "execution_count": 3,
   "metadata": {
    "id": "DXw2tPO84Ksp"
   },
   "outputs": [],
   "source": [
    "def create_matrix(X, k):\n",
    "    '''\n",
    "    X: an m by 1 array \n",
    "    '''\n",
    "    new_X = None\n",
    "    \n",
    "    ### START CODE HERE ###\n",
    "    \n",
    "    new_X = [np.power(X, i) for i in range(0, k+1)]\n",
    "    new_X = np.array(new_X).T\n",
    "    new_X = new_X.reshape(-1, k+1)\n",
    "\n",
    "    ### END CODE HERE ###\n",
    "    \n",
    "    return new_X\n"
   ]
  },
  {
   "cell_type": "markdown",
   "metadata": {
    "id": "WCTuye7C5Aq3"
   },
   "source": [
    "## Validate Model\n",
    "\n",
    "Now, we want to train our model for every value of `k`. You can use any of the methods that we used in **Question 1** (gradient descent or direct calculation) for this purpose. The following function trains our model on the training set for a given value of `k`, and then returns the loss on the training set and validation set, as well as the weight vector `w`."
   ]
  },
  {
   "cell_type": "code",
   "execution_count": 4,
   "metadata": {
    "id": "9lfWITgf7yQH"
   },
   "outputs": [],
   "source": [
    "# If you need any other function for training write it here\n",
    "# (like gradient descent or anything else)\n",
    "\n",
    "# The function which calculates the loss of the method\n",
    "def loss(X, Y, w, k):\n",
    "    ''' \n",
    "    X: an m by (n+1) matrix which includes inputs\n",
    "    Y: an m by 1 vector which includes heating loads\n",
    "    w: an (n+1) by 1 weight vector\n",
    "    '''\n",
    "    m, n = X.shape\n",
    "    loss = None\n",
    "\n",
    "    loss = (np.dot((np.dot(X,w) - Y).T, (np.dot(X,w) - Y)) + k * np.dot(w.T, w)) / m\n",
    "\n",
    "    # Returning the integer of the 1 by 1 list \n",
    "    return loss.item()\n",
    "\n",
    "# Using direct method to train the model\n",
    "def direct_method(X, Y, k):\n",
    "    '''\n",
    "    X: an m by (n+1) matrix which includes inputs\n",
    "    Y: an m by 1 vector which includes heating loads\n",
    "    '''\n",
    "    w = None\n",
    "\n",
    "    w = np.dot(np.linalg.inv(np.dot(X.T, X) + k * np.identity(X.shape[1])), np.dot(X.T, Y))\n",
    "    \n",
    "    return w\n"
   ]
  },
  {
   "cell_type": "markdown",
   "metadata": {},
   "source": [
    "Note that for this method we use a modified version of the formulas in the $1^{st}$ question:\n",
    "$$\\mathcal{L}(\\boldsymbol{w}) = \\frac{1}{m} ((\\boldsymbol{X}\\boldsymbol{w} - \\boldsymbol{Y})^T(\\boldsymbol{X}\\boldsymbol{w} - \\boldsymbol{Y}) + k(\\boldsymbol{w}^T\\boldsymbol{w})) $$\n",
    "\n",
    "$$\\boldsymbol{w} = \\underset{\\boldsymbol{w}}{\\arg \\min}\\mathcal{L}(\\boldsymbol{w}) = (\\boldsymbol{X}^T\\boldsymbol{X} + k\\boldsymbol{I})^{-1}(\\boldsymbol{X}^T\\boldsymbol{Y})$$\n",
    "\n"
   ]
  },
  {
   "cell_type": "code",
   "execution_count": 5,
   "metadata": {
    "id": "JaIs631q508z",
    "scrolled": true
   },
   "outputs": [],
   "source": [
    "def train(X_train, Y_train, X_val, Y_val, k):\n",
    "    '''\n",
    "    X_train: an m_train by 1 vector contains training points      \n",
    "    Y_train: an m_train by 1 vector contains training values\n",
    "    X_val: an m_val by 1 vector contains validation points\n",
    "    Y_val: an m_val by 1 vector contains validation values\n",
    "    k: degree of polynomial\n",
    "    '''\n",
    "    w, loss_train, loss_val = None, None, None\n",
    "    \n",
    "    ### START CODE HERE ###\n",
    "    \n",
    "    # Calculating the parameter\n",
    "    w = direct_method(create_matrix(X_train, k), Y_train, k)\n",
    "    # Calculating the loss\n",
    "    loss_train = loss(create_matrix(X_train, k), Y_train, w, k)\n",
    "    loss_val = loss(create_matrix(X_val, k), Y_val, w, k)\n",
    "\n",
    "    ### END CODE HERE ###\n",
    "    \n",
    "    return w, loss_train, loss_val\n"
   ]
  },
  {
   "cell_type": "markdown",
   "metadata": {
    "id": "eAsZfxCu6YEf"
   },
   "source": [
    "In the cell below, you can change the value of `k` between 1 and 12 and plot the loss on the training and validation set as a function of `k` in the same plot.\n",
    "\n",
    "**Question**: Discuss about the effect of $k$.\n",
    "\n",
    "**Answer**: `k` represents the regularization parameter for Ridge Regression, which controls the amount of regularization applied to the model. Regularization is a technique used to prevent overfitting in machine learning models by adding a penalty term to the cost function. A higher value of `k` leads to a greater penalty on the size of the weights and results in a simpler model with smaller weights. Conversely, a smaller value of `k` results in a more complex model with larger weights. The value of `k` is usually determined by hyperparameter tuning techniques such as grid search or cross-validation to find the optimal value that minimizes the validation error. \n",
    "A larger value of `k` is preferred when the training data is limited, noisy or the number of features is large, as it helps to prevent overfitting. Conversely, a smaller value of `k` is preferred when there is sufficient training data and a complex model is required to capture the underlying patterns in the data."
   ]
  },
  {
   "cell_type": "code",
   "execution_count": 6,
   "metadata": {
    "id": "knUTXtOv66Wx"
   },
   "outputs": [
    {
     "data": {
      "image/png": "[encoded data removed]",
      "text/plain": [
       "<Figure size 432x288 with 1 Axes>"
      ]
     },
     "metadata": {
      "needs_background": "light"
     },
     "output_type": "display_data"
    },
    {
     "name": "stdout",
     "output_type": "stream",
     "text": [
      "k with the minimum validation loss: 5\n"
     ]
    }
   ],
   "source": [
    "### START CODE HERE ###\n",
    "\n",
    "k_values = np.linspace(1, 12, 12)\n",
    "loss_train_values = []\n",
    "loss_val_values = []\n",
    "\n",
    "for k in k_values:\n",
    "    k = int(k)\n",
    "    # Training based on the k\n",
    "    w, loss_train, loss_val = train(X_train, Y_train, X_val, Y_val, k)\n",
    "    loss_train_values = np.append(loss_train_values, loss_train)\n",
    "    loss_val_values = np.append(loss_val_values, loss_val)\n",
    "\n",
    "# Plotting \n",
    "plt.plot(k_values, loss_train_values, label='training loss')\n",
    "plt.plot(k_values, loss_val_values, label='validation loss')\n",
    "plt.xlabel('k')\n",
    "plt.title('Loss function')\n",
    "plt.legend()\n",
    "plt.show()\n",
    "\n",
    "# Printing the best k\n",
    "best_k = np.argmin(loss_val_values) + 1\n",
    "print('k with the minimum validation loss: ' + str(best_k))\n",
    "\n",
    "### END CODE HERE ###"
   ]
  },
  {
   "cell_type": "markdown",
   "metadata": {},
   "source": [
    "As explained, when `k` increases, the loss of the training set decreases and if we continue increasing `k`, the loss converges to zero on the training set. But meanwhile, the loss of the validation set increases. That's because our data set did not need that much capacity and using a large `k` led to overfitting on the training set. The optimum value for k in this experiment computed as $5$."
   ]
  },
  {
   "cell_type": "markdown",
   "metadata": {
    "id": "K0M1d2Ez7JLJ"
   },
   "source": [
    "## Evaluating Model\n",
    "\n",
    "In the cell below find the loss of your best model on the test set.\n",
    "\n",
    "**Question**: Why we need test set?\n",
    "\n",
    "**Answer**: The test set is the part of the data set which the algorithm have not worked with nor trained on it. It is actually an unseen data that is going to score the performance of our algorithm. If there was no test set, the algorithm's performance couldn't be assessed."
   ]
  },
  {
   "cell_type": "code",
   "execution_count": 7,
   "metadata": {
    "id": "Ex1P5H0A7emE"
   },
   "outputs": [
    {
     "name": "stdout",
     "output_type": "stream",
     "text": [
      "0.32680881679057755\n"
     ]
    }
   ],
   "source": [
    "### START CODE HERE ###\n",
    "\n",
    "# Finding the parameter\n",
    "w = direct_method(create_matrix(X_train, best_k), Y_train, best_k)\n",
    "# Finding the loss on the test set\n",
    "loss_test = loss(create_matrix(X_test, best_k), Y_test, w, best_k)\n",
    "\n",
    "print(loss_test)\n",
    "\n",
    "### END CODE HERE ###"
   ]
  }
 ],
 "metadata": {
  "colab": {
   "provenance": []
  },
  "kernelspec": {
   "display_name": "Python 3 (ipykernel)",
   "language": "python",
   "name": "python3"
  },
  "language_info": {
   "codemirror_mode": {
    "name": "ipython",
    "version": 3
   },
   "file_extension": ".py",
   "mimetype": "text/x-python",
   "name": "python",
   "nbconvert_exporter": "python",
   "pygments_lexer": "ipython3",
   "version": "3.9.7"
  }
 },
 "nbformat": 4,
 "nbformat_minor": 1
}
