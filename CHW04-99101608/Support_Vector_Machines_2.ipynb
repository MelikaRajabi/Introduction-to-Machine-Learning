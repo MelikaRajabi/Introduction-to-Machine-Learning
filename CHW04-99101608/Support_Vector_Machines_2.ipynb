{
  "cells": [
    {
      "cell_type": "markdown",
      "metadata": {
        "id": "0_6codqFnXgi"
      },
      "source": [
        "# SVM for classification, without and with kernels\n",
        "\n",
        "In this notebook we are going to explore the use of Support Vector Machines (SVMs) for image classification. We are going to use the famous MNIST dataset, that is a dataset of handwritten digits. We get the data from mldata.org, that is a public repository for machine learning data.\n",
        "\n",
        "The dataset consists of 70,000 images of handwritten digits (i.e., 0, 1, ... 9). Each image is 28 pixels by 28 pixels and we can think of it as a vector of 28x28 = 784 numbers. Each number is an integer between 0 and 255. For each image we have the corresponding label (i.e., 0, 1, ..., 9)."
      ]
    },
    {
      "cell_type": "code",
      "execution_count": 1,
      "metadata": {
        "id": "w7owrXabnXgn"
      },
      "outputs": [],
      "source": [
        "# Load the required packages\n",
        "\n",
        "%matplotlib inline\n",
        "\n",
        "import numpy as np\n",
        "import matplotlib.pyplot as plt\n",
        "\n",
        "import sklearn\n",
        "from sklearn.datasets import fetch_openml"
      ]
    },
    {
      "cell_type": "markdown",
      "metadata": {
        "id": "f1Q2n9z_nXgr"
      },
      "source": [
        "Now let's load the dataset. 'data' contains the input, 'target' contains the label. We normalize the data by dividing each value by 255 so that each value is in [0,1]"
      ]
    },
    {
      "cell_type": "code",
      "execution_count": 2,
      "metadata": {
        "id": "Zn7ErChanXgs",
        "colab": {
          "base_uri": "https://localhost:8080/"
        },
        "outputId": "a6be143e-2b2d-4fdc-ad80-b4535d71e8a8"
      },
      "outputs": [
        {
          "output_type": "stream",
          "name": "stderr",
          "text": [
            "/usr/local/lib/python3.10/dist-packages/sklearn/datasets/_openml.py:968: FutureWarning: The default value of `parser` will change from `'liac-arff'` to `'auto'` in 1.4. You can set `parser='auto'` to silence this warning. Therefore, an `ImportError` will be raised from 1.4 if the dataset is dense and pandas is not installed. Note that the pandas parser may return different data types. See the Notes Section in fetch_openml's API doc for details.\n",
            "  warn(\n"
          ]
        }
      ],
      "source": [
        "\n",
        "# TODO: Normalize MNIST dataset and rescale the data\n",
        "\n",
        "# Loading the MNIST dataset and normalize the features so that each value is in the range [0,1]\n",
        "mnist = fetch_openml('mnist_784', version=1)\n",
        "\n",
        "# Rescaling the data\n",
        "X, y = mnist.data.to_numpy() / 255., mnist.target.to_numpy()\n"
      ]
    },
    {
      "cell_type": "markdown",
      "metadata": {
        "id": "THXcR9T1nXgu"
      },
      "source": [
        "Now split into training and test. We keep 500 samples in the training set. Make sure that each label is present at least 10 times\n",
        "in training. If it is not, then keep adding permutations to the initial data until this\n",
        "happens.\n",
        "\n",
        "**IMPORTANT**: if you cannot run the SVM with 500 samples or 1000 samples (see below), try with a smaller number of samples (e.g. 200 here and 400 below)."
      ]
    },
    {
      "cell_type": "code",
      "execution_count": 3,
      "metadata": {
        "id": "mK2rPXy3nXgv",
        "colab": {
          "base_uri": "https://localhost:8080/"
        },
        "outputId": "8a704915-b910-42e8-af75-955f3555e2a0"
      },
      "outputs": [
        {
          "output_type": "stream",
          "name": "stdout",
          "text": [
            "Labels and their frequencies in the training dataset: \n",
            "0: 49\n",
            "1: 60\n",
            "2: 35\n",
            "3: 56\n",
            "4: 51\n",
            "5: 47\n",
            "6: 46\n",
            "7: 63\n",
            "8: 48\n",
            "9: 45\n"
          ]
        }
      ],
      "source": [
        "\n",
        "# Randomly permute the data and split it into training and test sets, taking the first 500\n",
        "# data samples as training and the rest as test.\n",
        "\n",
        "permutation = np.random.permutation(X.shape[0])\n",
        "\n",
        "X = X[permutation]\n",
        "y = y[permutation]\n",
        "\n",
        "m_training = 500\n",
        "\n",
        "X_train, X_test = X[:m_training], X[m_training:]\n",
        "y_train, y_test = y[:m_training], y[m_training:]\n",
        "\n",
        "# Printing the labels and their frequencies in the training dataset\n",
        "\n",
        "print(\"Labels and their frequencies in the training dataset: \")\n",
        "unique_labels, label_counts = np.unique(y_train, return_counts=True)\n",
        "for label, count in zip(unique_labels, label_counts):\n",
        "    print(f\"{label}: {count}\")\n"
      ]
    },
    {
      "cell_type": "markdown",
      "source": [
        "By using \".permutation\" we actually shuffle the data."
      ],
      "metadata": {
        "id": "Wd-tqvg4_4Ko"
      }
    },
    {
      "cell_type": "markdown",
      "metadata": {
        "id": "45ksUODunXgw"
      },
      "source": [
        "We now provide a function to print an image in a dataset, the corresponding true label, and the index of the image in the dataset."
      ]
    },
    {
      "cell_type": "code",
      "source": [
        "\n",
        "def plot_digit(X_matrix, labels, index):\n",
        "  \"\"\"\n",
        "  Plots a digit from the X_matrix and prints the corresponding label.\n",
        "  Args:\n",
        "  X_matrix (numpy.ndarray): Matrix of digit images.\n",
        "  labels (numpy.ndarray): Array of digit labels.\n",
        "  index (int): Index of the digit to plot and print.\n",
        "  \"\"\"\n",
        "  print(\"INPUT:\")\n",
        "  plt.imshow(\n",
        "      X_matrix[index].reshape(28,28),\n",
        "      cmap          = plt.cm.gray_r,\n",
        "      interpolation = \"nearest\"\n",
        "  )\n",
        "  plt.show()\n",
        "  print(\"LABEL: %s\" % labels[index])\n"
      ],
      "metadata": {
        "id": "TeXh2BpHrd-5"
      },
      "execution_count": 4,
      "outputs": []
    },
    {
      "cell_type": "markdown",
      "source": [
        "\"interpolation='nearest'\" simply displays an image without trying to interpolate between pixels if the display resolution is not the same as the image resolution (which is most often the case). It will result an image in which pixels are displayed as a square of multiple pixels."
      ],
      "metadata": {
        "id": "XgNPBLURA_LJ"
      }
    },
    {
      "cell_type": "markdown",
      "metadata": {
        "id": "JEDj_SMOnXgz"
      },
      "source": [
        "As an example, let's print the 100-th image in X_train and the 40,000-th image in X_test and their true labels."
      ]
    },
    {
      "cell_type": "code",
      "execution_count": 5,
      "metadata": {
        "id": "9USuS-ztnXg1",
        "colab": {
          "base_uri": "https://localhost:8080/",
          "height": 912
        },
        "outputId": "26f14a47-3fc8-496a-eda9-494bbca73655"
      },
      "outputs": [
        {
          "output_type": "stream",
          "name": "stdout",
          "text": [
            "INPUT:\n"
          ]
        },
        {
          "output_type": "display_data",
          "data": {
            "text/plain": [
              "<Figure size 640x480 with 1 Axes>"
            ],
            "image/png": "[encoded data removed]"
          },
          "metadata": {}
        },
        {
          "output_type": "stream",
          "name": "stdout",
          "text": [
            "LABEL: 1\n",
            "INPUT:\n"
          ]
        },
        {
          "output_type": "display_data",
          "data": {
            "text/plain": [
              "<Figure size 640x480 with 1 Axes>"
            ],
            "image/png": "[encoded data removed]"
          },
          "metadata": {}
        },
        {
          "output_type": "stream",
          "name": "stdout",
          "text": [
            "LABEL: 2\n"
          ]
        }
      ],
      "source": [
        "# Plotting the 100th digit in the training set\n",
        "plot_digit(X_train, y_train, 100)\n",
        "\n",
        "# Plotting the 40,000th digit in the test set\n",
        "plot_digit(X_test, y_test,40000)"
      ]
    },
    {
      "cell_type": "markdown",
      "metadata": {
        "id": "dp9-uKtFnXg4"
      },
      "source": [
        "## Section 1\n",
        "Run SVM with cross validation to pick a kernel and values of parameters. Use a 5-fold cross-validation to pick the best kernel and choice of parameters. We provide some potential choice for parameters, but change the grid if needed (e.g., it takes too long). For the SVM for classification use SVC from sklearn.svm; for the grid search we suggest you use GridSearchCV from sklearn.model_selection, but you can implement your own cross-validation for model selection if you prefer.\n",
        "\n",
        "Print the best parameters used as well as the score obtained by the best model"
      ]
    },
    {
      "cell_type": "code",
      "source": [
        "\n",
        "# Importing the Support Vector Classifier (SVC) and GridSearchCV modules\n",
        "from sklearn.svm import SVC\n",
        "from sklearn.model_selection import GridSearchCV\n",
        "\n",
        "\n",
        "# Setting the parameters for the linear SVM\n",
        "parameters = {'C': [1, 10, 100]}\n",
        "\n",
        "# Creating a linear SVM object\n",
        "linear_SVM = SVC(kernel='linear')\n",
        "\n",
        "# TO DO: Find the best model using 5-fold cross-validation and train it using all the training data\n",
        "\n",
        "cv = 5\n",
        "grid_search = GridSearchCV(estimator=linear_SVM, param_grid=parameters, cv=cv)\n",
        "\n",
        "grid_search.fit(X_train, y_train)\n",
        "\n",
        "# Printing the results for the linear kernel\n",
        "print('RESULTS FOR LINEAR KERNEL\\n')\n",
        "\n",
        "# Printing the best parameters set\n",
        "print(\"Best parameters set found:\")\n",
        "\n",
        "best_params = grid_search.best_params_\n",
        "print(best_params)\n",
        "\n",
        "# Printing the score of the best parameters set\n",
        "print(\"Score with best parameters:\")\n",
        "\n",
        "best_score = grid_search.best_score_\n",
        "print(best_score)\n",
        "\n",
        "# Printing all the scores of the different parameters set\n",
        "print(\"\\nAll scores on the grid:\")\n",
        "\n",
        "cv_results = grid_search.cv_results_\n",
        "\n",
        "for mean_score, params in zip(cv_results['mean_test_score'], cv_results['params']):\n",
        "    print(\"Mean Score:\", mean_score)\n",
        "    print(\"Parameters:\", params)\n",
        "    print(\"\")\n",
        "\n",
        "\n",
        "# Setting the parameters for the polynomial kernel with degree 2\n",
        "parameters = {'C': [1, 10, 100], 'gamma': [0.01, 0.1, 1.]}\n",
        "\n",
        "# Creating a polynomial kernel with degree 2 SVM object\n",
        "poly2_SVM = SVC(kernel='poly', degree=2)\n",
        "\n",
        "# TO DO: Find the best model using 5-fold cross-validation and train it using all the training data\n",
        "\n",
        "grid_search = GridSearchCV(estimator=poly2_SVM, param_grid=parameters, cv=cv)\n",
        "\n",
        "grid_search.fit(X_train, y_train)\n",
        "\n",
        "# Printing the results for the polynomial kernel with degree 2\n",
        "print('\\nRESULTS FOR POLY DEGREE=2 KERNEL\\n')\n",
        "\n",
        "# Printing the best parameters set\n",
        "print(\"Best parameters set found:\")\n",
        "\n",
        "best_params = grid_search.best_params_\n",
        "print(best_params)\n",
        "\n",
        "# Printing the score of the best parameters set\n",
        "print(\"Score with best parameters:\")\n",
        "\n",
        "best_score = grid_search.best_score_\n",
        "print(best_score)\n",
        "\n",
        "# Printing all the scores of the different parameters set\n",
        "print(\"\\nAll scores on the grid:\")\n",
        "\n",
        "cv_results = grid_search.cv_results_\n",
        "\n",
        "for mean_score, params in zip(cv_results['mean_test_score'], cv_results['params']):\n",
        "    print(\"Mean Score:\", mean_score)\n",
        "    print(\"Parameters:\", params)\n",
        "    print(\"\")\n",
        "\n",
        "\n",
        "# Setting the parameters for the RBF kernel\n",
        "parameters = {'C': [1, 10, 100], 'gamma': [0.01, 0.1, 1.]}\n",
        "\n",
        "# Creating an RBF kernel SVM object\n",
        "rbf_SVM = SVC(kernel='rbf')\n",
        "\n",
        "# TO DO: Find the best model using 5-fold cross-validation and train it using all the training data\n",
        "\n",
        "grid_search = GridSearchCV(estimator=rbf_SVM, param_grid=parameters, cv=cv)\n",
        "\n",
        "grid_search.fit(X_train, y_train)\n",
        "\n",
        "# Printing the results for the RBF kernel\n",
        "print('\\nRESULTS FOR RBF KERNEL\\n')\n",
        "\n",
        "# Printing the best parameters set\n",
        "print(\"Best parameters set found:\")\n",
        "\n",
        "best_params = grid_search.best_params_\n",
        "print(best_params)\n",
        "\n",
        "# Printing the score of the best parameters set\n",
        "print(\"Score with best parameters:\")\n",
        "\n",
        "best_score = grid_search.best_score_\n",
        "print(best_score)\n",
        "\n",
        "# Printing all the scores of the different parameters set\n",
        "print(\"\\nAll scores on the grid:\")\n",
        "\n",
        "cv_results = grid_search.cv_results_\n",
        "\n",
        "for mean_score, params in zip(cv_results['mean_test_score'], cv_results['params']):\n",
        "    print(\"Mean Score:\", mean_score)\n",
        "    print(\"Parameters:\", params)\n",
        "    print(\"\")\n"
      ],
      "metadata": {
        "id": "49FHb1CKuSa2",
        "colab": {
          "base_uri": "https://localhost:8080/"
        },
        "outputId": "c7619d9b-6b68-40ab-a6aa-0e85eefcdbf4"
      },
      "execution_count": 6,
      "outputs": [
        {
          "output_type": "stream",
          "name": "stdout",
          "text": [
            "RESULTS FOR LINEAR KERNEL\n",
            "\n",
            "Best parameters set found:\n",
            "{'C': 1}\n",
            "Score with best parameters:\n",
            "0.882\n",
            "\n",
            "All scores on the grid:\n",
            "Mean Score: 0.882\n",
            "Parameters: {'C': 1}\n",
            "\n",
            "Mean Score: 0.882\n",
            "Parameters: {'C': 10}\n",
            "\n",
            "Mean Score: 0.882\n",
            "Parameters: {'C': 100}\n",
            "\n",
            "\n",
            "RESULTS FOR POLY DEGREE=2 KERNEL\n",
            "\n",
            "Best parameters set found:\n",
            "{'C': 10, 'gamma': 0.01}\n",
            "Score with best parameters:\n",
            "0.892\n",
            "\n",
            "All scores on the grid:\n",
            "Mean Score: 0.852\n",
            "Parameters: {'C': 1, 'gamma': 0.01}\n",
            "\n",
            "Mean Score: 0.89\n",
            "Parameters: {'C': 1, 'gamma': 0.1}\n",
            "\n",
            "Mean Score: 0.89\n",
            "Parameters: {'C': 1, 'gamma': 1.0}\n",
            "\n",
            "Mean Score: 0.892\n",
            "Parameters: {'C': 10, 'gamma': 0.01}\n",
            "\n",
            "Mean Score: 0.89\n",
            "Parameters: {'C': 10, 'gamma': 0.1}\n",
            "\n",
            "Mean Score: 0.89\n",
            "Parameters: {'C': 10, 'gamma': 1.0}\n",
            "\n",
            "Mean Score: 0.89\n",
            "Parameters: {'C': 100, 'gamma': 0.01}\n",
            "\n",
            "Mean Score: 0.89\n",
            "Parameters: {'C': 100, 'gamma': 0.1}\n",
            "\n",
            "Mean Score: 0.89\n",
            "Parameters: {'C': 100, 'gamma': 1.0}\n",
            "\n",
            "\n",
            "RESULTS FOR RBF KERNEL\n",
            "\n",
            "Best parameters set found:\n",
            "{'C': 10, 'gamma': 0.01}\n",
            "Score with best parameters:\n",
            "0.9\n",
            "\n",
            "All scores on the grid:\n",
            "Mean Score: 0.8940000000000001\n",
            "Parameters: {'C': 1, 'gamma': 0.01}\n",
            "\n",
            "Mean Score: 0.458\n",
            "Parameters: {'C': 1, 'gamma': 0.1}\n",
            "\n",
            "Mean Score: 0.134\n",
            "Parameters: {'C': 1, 'gamma': 1.0}\n",
            "\n",
            "Mean Score: 0.9\n",
            "Parameters: {'C': 10, 'gamma': 0.01}\n",
            "\n",
            "Mean Score: 0.49399999999999994\n",
            "Parameters: {'C': 10, 'gamma': 0.1}\n",
            "\n",
            "Mean Score: 0.14200000000000002\n",
            "Parameters: {'C': 10, 'gamma': 1.0}\n",
            "\n",
            "Mean Score: 0.9\n",
            "Parameters: {'C': 100, 'gamma': 0.01}\n",
            "\n",
            "Mean Score: 0.49399999999999994\n",
            "Parameters: {'C': 100, 'gamma': 0.1}\n",
            "\n",
            "Mean Score: 0.14200000000000002\n",
            "Parameters: {'C': 100, 'gamma': 1.0}\n",
            "\n"
          ]
        }
      ]
    },
    {
      "cell_type": "markdown",
      "metadata": {
        "id": "sECvVFNvnXg6"
      },
      "source": [
        "## Section 2\n",
        "For the \"best\" SVM kernel and choice of parameters from above, train the model on the entire training set and measure the training error. Also make predictions on the test set and measure the test error. Print the training and the test error."
      ]
    },
    {
      "cell_type": "code",
      "execution_count": 7,
      "metadata": {
        "id": "sk0mqc0QnXg6",
        "colab": {
          "base_uri": "https://localhost:8080/"
        },
        "outputId": "ad669745-663f-4660-d382-cc279232861c"
      },
      "outputs": [
        {
          "output_type": "stream",
          "name": "stdout",
          "text": [
            "Best SVM training error: 0.000000\n",
            "Best SVM test error: 0.108604\n"
          ]
        }
      ],
      "source": [
        "\n",
        "# Getting the best SVM model from cross-validation\n",
        "best_SVM = SVC(kernel='rbf', C=10, gamma=0.01)\n",
        "\n",
        "# Fitting the model on the entire training set\n",
        "best_SVM.fit(X_train, y_train)\n",
        "\n",
        "# Getting the training and test error\n",
        "training_error = 1. - best_SVM.score(X_train, y_train)\n",
        "test_error = 1. - best_SVM.score(X_test, y_test)\n",
        "\n",
        "# Printing the training and test error for the best SVM model\n",
        "print(\"Best SVM training error: %f\" % training_error)\n",
        "print(\"Best SVM test error: %f\" % test_error)\n"
      ]
    },
    {
      "cell_type": "markdown",
      "metadata": {
        "id": "-nMoD65fnXg6"
      },
      "source": [
        "## Use logistic regression for comparison\n",
        "\n",
        "## Section 3\n",
        "\n",
        "Just for comparison let's also use logistic regression, first with the default values of the parameter for regularization and then with cross-validation to fix the value of the parameter. For cross validation, use 5-fold cross validation and the default values of the regularization parameters for the function linear_model.LogisticRegressionCV(...)"
      ]
    },
    {
      "cell_type": "code",
      "source": [
        "\n",
        "from sklearn import linear_model\n",
        "import warnings\n",
        "\n",
        "warnings.filterwarnings(\"ignore\")\n",
        "\n",
        "\n",
        "# Creating a logistic regression object\n",
        "lr = linear_model.LogisticRegression()\n",
        "\n",
        "# TODO: Fit the model on the training data\n",
        "lr.fit(X_train, y_train)\n",
        "\n",
        "# Computing the training and test error for the logistic regression model\n",
        "training_error = 1. - lr.score(X_train, y_train)\n",
        "test_error = 1. - lr.score(X_test, y_test)\n",
        "\n",
        "print(\"Best logistic regression training error: %f\" % training_error)\n",
        "print(\"Best logistic regression test error: %f\" % test_error)\n",
        "\n",
        "\n",
        "# Use logistic regression with 5-fold cross-validation\n",
        "# You can use linear_model.LogisticRegressionCV\n",
        "# Use 5-fold cross-validation to find the best choice of the parameter, then train\n",
        "# the model on the entire training set\n",
        "\n",
        "lr_cv = linear_model.LogisticRegressionCV(cv=cv, random_state=0)\n",
        "\n",
        "# Finding the best parameter's score and then take the average to compute the error\n",
        "training_error_cv = 1. - sklearn.model_selection.cross_val_score(lr_cv, X_train, y_train, cv=cv).mean()\n",
        "\n",
        "lr_cv.fit(X_train, y_train)\n",
        "\n",
        "test_error_cv = 1. - lr_cv.score(X_test, y_test)\n",
        "\n",
        "print(\"Best logistic regression training error: %f\" % training_error_cv)\n",
        "print(\"Best logistic regression test error: %f\" % test_error_cv)\n"
      ],
      "metadata": {
        "id": "lHBdJ76QtwDB",
        "colab": {
          "base_uri": "https://localhost:8080/"
        },
        "outputId": "814d4dc9-f773-4b84-e5a0-7f431240abea"
      },
      "execution_count": 8,
      "outputs": [
        {
          "output_type": "stream",
          "name": "stdout",
          "text": [
            "Best logistic regression training error: 0.000000\n",
            "Best logistic regression test error: 0.151223\n",
            "Best logistic regression training error: 0.140000\n",
            "Best logistic regression test error: 0.150791\n"
          ]
        }
      ]
    },
    {
      "cell_type": "markdown",
      "source": [
        "First of all we import \"warnings\" library and ignore them to prevent the long and disturbing texts generated.\n",
        "\n"
      ],
      "metadata": {
        "id": "J1C-u12T0jOk"
      }
    },
    {
      "cell_type": "markdown",
      "metadata": {
        "id": "D1zBeUFYnXg8"
      },
      "source": [
        "## Section 4\n",
        "Compare and comment the results from SVM and logistic regression."
      ]
    },
    {
      "cell_type": "markdown",
      "source": [
        "Based on the results from the Section 2 and Section 3.2, which are showing the best outputs of the $2$ methods, we conclude that the SVM method performs better on the MNIST dataset.\n",
        "\n",
        "- The SVM is known for its ability to handle non-linear decision boundaries effectively through the use of kernel functions. The MNIST dataset consists of handwritten digits, which may have complex and non-linear patterns. The SVM's ability to capture such patterns might have contributed to its superior performance compared to logistic regression, which assumes linear decision boundaries by default.\n",
        "\n",
        "- SVMs can implicitly perform feature transformations using kernel functions. This transformation can map the original feature space into a higher-dimensional space, making it easier to separate the classes. In the case of the MNIST dataset, the SVM might have benefited from this implicit feature transformation to better discriminate between the different digit classes.\n",
        "\n",
        "- SVMs are generally more robust to outliers due to their margin maximization objective. Outliers, if present in the MNIST dataset, might have less impact on the SVM's decision boundary compared to logistic regression, which minimizes the least squares loss.\n",
        "\n",
        "- SVMs can capture complex relationships in the data by utilizing different kernel functions. This flexibility allows the SVM to fit the training data more closely, potentially resulting in better generalization and improved performance on the test set. Logistic regression, being a linear model, might have limitations in capturing highly complex relationships in the MNIST dataset.\n",
        "\n",
        "It's important to note that the performance comparison may vary based on the specific dataset and the tuning of the models."
      ],
      "metadata": {
        "id": "bBqlVV4B2nsw"
      }
    },
    {
      "cell_type": "markdown",
      "metadata": {
        "id": "tjEGnvoynXg8"
      },
      "source": [
        "## Section 5\n",
        "Write the code that finds and plots a digit that is missclassified by logistic regression (optimized for the regularization parameter) and correctly classified by the \"best\" SVM."
      ]
    },
    {
      "cell_type": "code",
      "execution_count": 9,
      "metadata": {
        "id": "md8_fNFxnXg8",
        "colab": {
          "base_uri": "https://localhost:8080/",
          "height": 499
        },
        "outputId": "0eb73e2e-052a-433c-8054-570d36b3a419"
      },
      "outputs": [
        {
          "output_type": "stream",
          "name": "stdout",
          "text": [
            "INPUT:\n"
          ]
        },
        {
          "output_type": "display_data",
          "data": {
            "text/plain": [
              "<Figure size 640x480 with 1 Axes>"
            ],
            "image/png": "[encoded data removed]"
          },
          "metadata": {}
        },
        {
          "output_type": "stream",
          "name": "stdout",
          "text": [
            "LABEL: 3\n",
            "Logistic regression Label: 5\n",
            "SVM Label: 3\n"
          ]
        }
      ],
      "source": [
        "\n",
        "# Predicting the test set by bith methods\n",
        "\n",
        "y_pred_SVM = best_SVM.predict(X_test)\n",
        "y_pred_lr = lr_cv.predict(X_test)\n",
        "\n",
        "# Iterating over the test set and finding the label not equal with the first method's prediction, then repeating for the second method\n",
        "for i in range(len(X_test)):\n",
        "  if y_test[i] != y_pred_lr[i]:\n",
        "    if y_test[i] == y_pred_SVM[i]:\n",
        "      plot_digit(X_test, y_test, i)\n",
        "      print(\"Logistic regression Label: %s\" % y_pred_lr[i])\n",
        "      print(\"SVM Label: %s\" % y_pred_SVM[i])\n",
        "      break\n"
      ]
    },
    {
      "cell_type": "markdown",
      "metadata": {
        "id": "xrWB8rZvnXg9"
      },
      "source": [
        "## More data\n",
        "Now let's do the same but using 1000 data points for training.\n",
        "\n",
        "## Section 6\n",
        "Repeat the entire analysis above using 1000 samples. Of course you can copy the code from above."
      ]
    },
    {
      "cell_type": "code",
      "source": [
        "\n",
        "permutation = np.random.permutation(X.shape[0])\n",
        "\n",
        "X = X[permutation]\n",
        "y = y[permutation]\n",
        "\n",
        "m_training = 1000\n",
        "\n",
        "X_train, X_test = X[:m_training], X[m_training:]\n",
        "y_train, y_test = y[:m_training], y[m_training:]\n",
        "\n",
        "print(\"Labels and their frequencies in the training dataset: \")\n",
        "unique_labels, label_counts = np.unique(y_train, return_counts=True)\n",
        "for label, count in zip(unique_labels, label_counts):\n",
        "    print(f\"{label}: {count}\")\n",
        "\n",
        "print(\"-----------------------------------------------------------------------\")\n",
        "#-------------------------------------------------------------------------------\n",
        "\n",
        "parameters = {'C': [1, 10, 100]}\n",
        "\n",
        "linear_SVM = SVC(kernel='linear')\n",
        "\n",
        "cv = 5\n",
        "grid_search = GridSearchCV(estimator=linear_SVM, param_grid=parameters, cv=cv)\n",
        "grid_search.fit(X_train, y_train)\n",
        "\n",
        "print('RESULTS FOR LINEAR KERNEL\\n')\n",
        "print(\"Best parameters set found:\")\n",
        "best_params = grid_search.best_params_\n",
        "print(best_params)\n",
        "print(\"Score with best parameters:\")\n",
        "best_score = grid_search.best_score_\n",
        "print(best_score)\n",
        "print(\"\\nAll scores on the grid:\")\n",
        "cv_results = grid_search.cv_results_\n",
        "for mean_score, params in zip(cv_results['mean_test_score'], cv_results['params']):\n",
        "    print(\"Mean Score:\", mean_score)\n",
        "    print(\"Parameters:\", params)\n",
        "    print(\"\")\n",
        "\n",
        "\n",
        "parameters = {'C': [1, 10, 100], 'gamma': [0.01, 0.1, 1.]}\n",
        "\n",
        "poly2_SVM = SVC(kernel='poly', degree=2)\n",
        "\n",
        "grid_search = GridSearchCV(estimator=poly2_SVM, param_grid=parameters, cv=cv)\n",
        "grid_search.fit(X_train, y_train)\n",
        "\n",
        "print('\\nRESULTS FOR POLY DEGREE=2 KERNEL\\n')\n",
        "print(\"Best parameters set found:\")\n",
        "best_params = grid_search.best_params_\n",
        "print(best_params)\n",
        "print(\"Score with best parameters:\")\n",
        "best_score = grid_search.best_score_\n",
        "print(best_score)\n",
        "print(\"\\nAll scores on the grid:\")\n",
        "cv_results = grid_search.cv_results_\n",
        "for mean_score, params in zip(cv_results['mean_test_score'], cv_results['params']):\n",
        "    print(\"Mean Score:\", mean_score)\n",
        "    print(\"Parameters:\", params)\n",
        "    print(\"\")\n",
        "\n",
        "\n",
        "parameters = {'C': [1, 10, 100], 'gamma': [0.01, 0.1, 1.]}\n",
        "\n",
        "rbf_SVM = SVC(kernel='rbf')\n",
        "\n",
        "grid_search = GridSearchCV(estimator=rbf_SVM, param_grid=parameters, cv=cv)\n",
        "grid_search.fit(X_train, y_train)\n",
        "\n",
        "print('\\nRESULTS FOR RBF KERNEL\\n')\n",
        "print(\"Best parameters set found:\")\n",
        "best_params = grid_search.best_params_\n",
        "print(best_params)\n",
        "print(\"Score with best parameters:\")\n",
        "best_score = grid_search.best_score_\n",
        "print(best_score)\n",
        "print(\"\\nAll scores on the grid:\")\n",
        "cv_results = grid_search.cv_results_\n",
        "for mean_score, params in zip(cv_results['mean_test_score'], cv_results['params']):\n",
        "    print(\"Mean Score:\", mean_score)\n",
        "    print(\"Parameters:\", params)\n",
        "    print(\"\")\n",
        "\n",
        "print(\"-----------------------------------------------------------------------\")\n",
        "#-------------------------------------------------------------------------------\n",
        "\n",
        "best_SVM = SVC(kernel='rbf', C=10, gamma=0.01)\n",
        "best_SVM.fit(X_train, y_train)\n",
        "\n",
        "training_error = 1. - best_SVM.score(X_train, y_train)\n",
        "test_error = 1. - best_SVM.score(X_test, y_test)\n",
        "\n",
        "print(\"Best SVM training error: %f\" % training_error)\n",
        "print(\"Best SVM test error: %f\" % test_error)\n",
        "\n",
        "print(\"-----------------------------------------------------------------------\")\n",
        "#-------------------------------------------------------------------------------\n",
        "\n",
        "lr = linear_model.LogisticRegression()\n",
        "lr.fit(X_train, y_train)\n",
        "\n",
        "training_error = 1. - lr.score(X_train, y_train)\n",
        "test_error = 1. - lr.score(X_test, y_test)\n",
        "\n",
        "print(\"Best logistic regression training error: %f\" % training_error)\n",
        "print(\"Best logistic regression test error: %f\" % test_error)\n",
        "\n",
        "\n",
        "lr_cv = linear_model.LogisticRegressionCV(cv=cv, random_state=0)\n",
        "\n",
        "training_error_cv = 1. - sklearn.model_selection.cross_val_score(lr_cv, X_train, y_train, cv=cv).mean()\n",
        "\n",
        "lr_cv.fit(X_train, y_train)\n",
        "\n",
        "test_error_cv = 1. - lr_cv.score(X_test, y_test)\n",
        "\n",
        "print(\"Best logistic regression training error: %f\" % training_error_cv)\n",
        "print(\"Best logistic regression test error: %f\" % test_error_cv)\n",
        "\n",
        "print(\"-----------------------------------------------------------------------\")\n",
        "#-------------------------------------------------------------------------------\n",
        "\n",
        "y_pred_SVM = best_SVM.predict(X_test)\n",
        "y_pred_lr = lr_cv.predict(X_test)\n",
        "\n",
        "for i in range(len(X_test)):\n",
        "  if y_test[i] != y_pred_lr[i]:\n",
        "    if y_test[i] == y_pred_SVM[i]:\n",
        "      plot_digit(X_test, y_test, i)\n",
        "      print(\"Logistic regression Label: %s\" % y_pred_lr[i])\n",
        "      print(\"SVM Label: %s\" % y_pred_SVM[i])\n",
        "      break\n"
      ],
      "metadata": {
        "colab": {
          "base_uri": "https://localhost:8080/",
          "height": 1000
        },
        "id": "nUKOWjV79OEe",
        "outputId": "bfa0f4d2-51f5-45ab-fe4d-c8f1cc77eda5"
      },
      "execution_count": 10,
      "outputs": [
        {
          "output_type": "stream",
          "name": "stdout",
          "text": [
            "Labels and their frequencies in the training dataset: \n",
            "0: 119\n",
            "1: 114\n",
            "2: 98\n",
            "3: 99\n",
            "4: 106\n",
            "5: 82\n",
            "6: 97\n",
            "7: 103\n",
            "8: 91\n",
            "9: 91\n",
            "-----------------------------------------------------------------------\n",
            "RESULTS FOR LINEAR KERNEL\n",
            "\n",
            "Best parameters set found:\n",
            "{'C': 1}\n",
            "Score with best parameters:\n",
            "0.8639999999999999\n",
            "\n",
            "All scores on the grid:\n",
            "Mean Score: 0.8639999999999999\n",
            "Parameters: {'C': 1}\n",
            "\n",
            "Mean Score: 0.8639999999999999\n",
            "Parameters: {'C': 10}\n",
            "\n",
            "Mean Score: 0.8639999999999999\n",
            "Parameters: {'C': 100}\n",
            "\n",
            "\n",
            "RESULTS FOR POLY DEGREE=2 KERNEL\n",
            "\n",
            "Best parameters set found:\n",
            "{'C': 1, 'gamma': 0.1}\n",
            "Score with best parameters:\n",
            "0.883\n",
            "\n",
            "All scores on the grid:\n",
            "Mean Score: 0.867\n",
            "Parameters: {'C': 1, 'gamma': 0.01}\n",
            "\n",
            "Mean Score: 0.883\n",
            "Parameters: {'C': 1, 'gamma': 0.1}\n",
            "\n",
            "Mean Score: 0.883\n",
            "Parameters: {'C': 1, 'gamma': 1.0}\n",
            "\n",
            "Mean Score: 0.882\n",
            "Parameters: {'C': 10, 'gamma': 0.01}\n",
            "\n",
            "Mean Score: 0.883\n",
            "Parameters: {'C': 10, 'gamma': 0.1}\n",
            "\n",
            "Mean Score: 0.883\n",
            "Parameters: {'C': 10, 'gamma': 1.0}\n",
            "\n",
            "Mean Score: 0.883\n",
            "Parameters: {'C': 100, 'gamma': 0.01}\n",
            "\n",
            "Mean Score: 0.883\n",
            "Parameters: {'C': 100, 'gamma': 0.1}\n",
            "\n",
            "Mean Score: 0.883\n",
            "Parameters: {'C': 100, 'gamma': 1.0}\n",
            "\n",
            "\n",
            "RESULTS FOR RBF KERNEL\n",
            "\n",
            "Best parameters set found:\n",
            "{'C': 10, 'gamma': 0.01}\n",
            "Score with best parameters:\n",
            "0.8930000000000001\n",
            "\n",
            "All scores on the grid:\n",
            "Mean Score: 0.8860000000000001\n",
            "Parameters: {'C': 1, 'gamma': 0.01}\n",
            "\n",
            "Mean Score: 0.529\n",
            "Parameters: {'C': 1, 'gamma': 0.1}\n",
            "\n",
            "Mean Score: 0.128\n",
            "Parameters: {'C': 1, 'gamma': 1.0}\n",
            "\n",
            "Mean Score: 0.8930000000000001\n",
            "Parameters: {'C': 10, 'gamma': 0.01}\n",
            "\n",
            "Mean Score: 0.575\n",
            "Parameters: {'C': 10, 'gamma': 0.1}\n",
            "\n",
            "Mean Score: 0.134\n",
            "Parameters: {'C': 10, 'gamma': 1.0}\n",
            "\n",
            "Mean Score: 0.8930000000000001\n",
            "Parameters: {'C': 100, 'gamma': 0.01}\n",
            "\n",
            "Mean Score: 0.575\n",
            "Parameters: {'C': 100, 'gamma': 0.1}\n",
            "\n",
            "Mean Score: 0.134\n",
            "Parameters: {'C': 100, 'gamma': 1.0}\n",
            "\n",
            "-----------------------------------------------------------------------\n",
            "Best SVM training error: 0.000000\n",
            "Best SVM test error: 0.085304\n",
            "-----------------------------------------------------------------------\n",
            "Best logistic regression training error: 0.000000\n",
            "Best logistic regression test error: 0.135246\n",
            "Best logistic regression training error: 0.151000\n",
            "Best logistic regression test error: 0.137768\n",
            "-----------------------------------------------------------------------\n",
            "INPUT:\n"
          ]
        },
        {
          "output_type": "display_data",
          "data": {
            "text/plain": [
              "<Figure size 640x480 with 1 Axes>"
            ],
            "image/png": "[encoded data removed]"
          },
          "metadata": {}
        },
        {
          "output_type": "stream",
          "name": "stdout",
          "text": [
            "LABEL: 8\n",
            "Logistic regression Label: 5\n",
            "SVM Label: 8\n"
          ]
        }
      ]
    },
    {
      "cell_type": "markdown",
      "metadata": {
        "id": "0gkWCjdVnXg9"
      },
      "source": [
        "## Section 7\n",
        "Compare and comment on the differences with the results above."
      ]
    },
    {
      "cell_type": "markdown",
      "source": [
        "As we see, by doubling the size of the train data, both methods, performed better on the test set. This is because by increasing the train data the models have access to a larger and more diverse set of examples. This can help improve their ability to generalize patterns and make accurate predictions on unseen data. Also, increasing the training data can help mitigate overfitting, which occurs when a model becomes too specific to the training set and fails to generalize well. With more data, the models are exposed to a wider range of instances and are less likely to memorize specific training examples. This can lead to better generalization performance and a decrease in overfitting.\n",
        "\n",
        "There is also a probability of decreasing in the output depending on the dataset added."
      ],
      "metadata": {
        "id": "gOC4tiqbCPe3"
      }
    }
  ],
  "metadata": {
    "kernelspec": {
      "display_name": "Python 3",
      "language": "python",
      "name": "python3"
    },
    "language_info": {
      "codemirror_mode": {
        "name": "ipython",
        "version": 3
      },
      "file_extension": ".py",
      "mimetype": "text/x-python",
      "name": "python",
      "nbconvert_exporter": "python",
      "pygments_lexer": "ipython3",
      "version": "3.8.3"
    },
    "colab": {
      "provenance": []
    }
  },
  "nbformat": 4,
  "nbformat_minor": 0
}